{
 "cells": [
  {
   "cell_type": "code",
   "execution_count": 7,
   "id": "78a1451f-ed3b-46ee-be5d-5b0277a7bd97",
   "metadata": {},
   "outputs": [
    {
     "name": "stdout",
     "output_type": "stream",
     "text": [
      "[NbConvertApp] Converting notebook supervisor_test.ipynb to script\n",
      "[NbConvertApp] Writing 1686 bytes to supervisor_test.py\n"
     ]
    }
   ],
   "source": [
    "try:\n",
    "    !jupyter nbconvert --to script supervisor_test.ipynb\n",
    "    %load_ext autoreload\n",
    "    %autoreload 2   \n",
    "except:\n",
    "    pass"
   ]
  },
  {
   "cell_type": "code",
   "execution_count": 1,
   "id": "bd7c65ce-68f5-4c42-b982-047a0637a160",
   "metadata": {},
   "outputs": [],
   "source": [
    "def updateCanStatus():\n",
    "    for can in cans:\n",
    "        x,y,z=can[\"translation\"].getSFVec3f()\n",
    "        if(x>-0.75 and x<6.8 and y>-1 and y<-0.36):\n",
    "            can[\"status\"]=\"CONVEYOR\"\n",
    "        elif(x>-0.25 and x<0.25 and y>0.48 and y<0.8):\n",
    "            can[\"status\"]=\"BASKET\"\n",
    "        else:\n",
    "            can[\"status\"]=\"LOST\"\n",
    "    "
   ]
  },
  {
   "cell_type": "code",
   "execution_count": 2,
   "id": "4a8a1329-2782-4f67-897b-ec4545d91e26",
   "metadata": {},
   "outputs": [],
   "source": [
    "#  from controller import Robot, Motor, DistanceSensor\n",
    "from controller import Supervisor\n",
    "import random\n",
    "\n",
    "# create the Robot instance.\n",
    "sv = Supervisor()\n",
    "\n",
    "# get the time step of the current world.\n",
    "timestep = int(sv.getBasicTimeStep())*8\n",
    "\n",
    "\n",
    "ncans = 14\n",
    "spacing=5\n"
   ]
  },
  {
   "cell_type": "code",
   "execution_count": 3,
   "id": "243ce5f7-a8e4-4e59-893c-15f0f3d2ecfb",
   "metadata": {},
   "outputs": [],
   "source": [
    "\n",
    "# Initialize can datastructure\n",
    "global cans\n",
    "cans=[]\n",
    "for i in range(ncans):\n",
    "    can_node=sv.getFromDef('can'+str(i))\n",
    "    can={}\n",
    "    can[\"translation\"]=can_node.getField(\"translation\")\n",
    "    can[\"rotation\"]=can_node.getField(\"rotation\")\n",
    "    can[\"status\"]=\"unknown\"\n",
    "    cans.append(can)\n",
    "\n",
    "updateCanStatus()\n",
    "sv.step(timestep)\n",
    "    \n",
    "nextAction = sv.getTime()\n",
    "score=0\n"
   ]
  },
  {
   "cell_type": "code",
   "execution_count": 4,
   "id": "7ba42f8f-2eb3-4cff-bf63-99de4e9f0783",
   "metadata": {},
   "outputs": [],
   "source": [
    "while sv.step(timestep) != -1 and sv.getTime()<100:\n",
    "    if(sv.getTime()>=nextAction):\n",
    "        updateCanStatus()\n",
    "        for can in cans:\n",
    "            if(can[\"status\"]==\"LOST\"):\n",
    "                can[\"translation\"].setSFVec3f([6.8,random.randrange(-130,-80)/100,0.65])\n",
    "                can[\"rotation\"].setSFRotation([0,1,0,0])\n",
    "                nextAction=nextAction+spacing\n",
    "                break\n",
    "#    print(\"Time: {} Score: {}\".format(sv.getTime(),score))\n",
    "    pass"
   ]
  },
  {
   "cell_type": "code",
   "execution_count": 5,
   "id": "b38b98dc-545a-4a07-be8f-aba918c65851",
   "metadata": {},
   "outputs": [
    {
     "name": "stdout",
     "output_type": "stream",
     "text": [
      "2\n"
     ]
    }
   ],
   "source": [
    "score=0\n",
    "updateCanStatus()\n",
    "sv.step(timestep)\n",
    "\n",
    "\n",
    "for can in cans:\n",
    "    if(can[\"status\"]==\"BASKET\"):\n",
    "        score=score+1\n",
    "\n",
    "print(score)"
   ]
  },
  {
   "cell_type": "code",
   "execution_count": 6,
   "id": "13cd8e25-abb9-4a6d-a74c-3e8745b0f8c1",
   "metadata": {},
   "outputs": [
    {
     "name": "stdout",
     "output_type": "stream",
     "text": [
      "CONVEYOR\n",
      "CONVEYOR\n",
      "CONVEYOR\n",
      "CONVEYOR\n",
      "CONVEYOR\n",
      "CONVEYOR\n",
      "CONVEYOR\n",
      "CONVEYOR\n",
      "CONVEYOR\n",
      "CONVEYOR\n",
      "CONVEYOR\n",
      "BASKET\n",
      "BASKET\n",
      "CONVEYOR\n"
     ]
    }
   ],
   "source": [
    "for can in cans:\n",
    "    print(can[\"status\"])"
   ]
  }
 ],
 "metadata": {
  "kernelspec": {
   "display_name": "Python 3",
   "language": "python",
   "name": "python3"
  },
  "language_info": {
   "codemirror_mode": {
    "name": "ipython",
    "version": 3
   },
   "file_extension": ".py",
   "mimetype": "text/x-python",
   "name": "python",
   "nbconvert_exporter": "python",
   "pygments_lexer": "ipython3",
   "version": "3.9.10"
  }
 },
 "nbformat": 4,
 "nbformat_minor": 5
}
