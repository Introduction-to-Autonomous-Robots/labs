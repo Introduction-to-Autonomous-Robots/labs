{
 "cells": [
  {
   "cell_type": "code",
   "execution_count": 2,
   "id": "dbbf0b16-3f03-451c-8678-51132dadcff7",
   "metadata": {},
   "outputs": [
    {
     "name": "stdout",
     "output_type": "stream",
     "text": [
      "[NbConvertApp] Converting notebook webots.ipynb to script\n",
      "[NbConvertApp] Writing 1466 bytes to webots.py\n"
     ]
    }
   ],
   "source": [
    "#!jupyter nbconvert --to script webots.ipynb"
   ]
  },
  {
   "cell_type": "code",
   "execution_count": null,
   "id": "759ff937-3793-45be-8380-ff8df50e14e3",
   "metadata": {},
   "outputs": [],
   "source": [
    "import numpy as np\n",
    "\n",
    "from controller import Robot\n",
    "robot = Robot()\n",
    "TIME_STEP=32\n",
    "\n",
    "ur_motors = []\n",
    "ur_motors.append(robot.getDevice('shoulder_pan_joint'))\n",
    "ur_motors.append(robot.getDevice('shoulder_lift_joint'))\n",
    "ur_motors.append(robot.getDevice('elbow_joint'))\n",
    "\n",
    "ur_motors.append(robot.getDevice('wrist_1_joint'))\n",
    "ur_motors.append(robot.getDevice('wrist_2_joint'))\n",
    "ur_motors.append(robot.getDevice('wrist_3_joint'))\n",
    "\n",
    "\n",
    "position_sensors = []\n",
    "position_sensors.append(robot.getDevice('shoulder_pan_joint_sensor'))\n",
    "position_sensors.append(robot.getDevice('shoulder_lift_joint_sensor'))\n",
    "position_sensors.append(robot.getDevice('elbow_joint_sensor'))\n",
    "\n",
    "position_sensors.append(robot.getDevice('wrist_1_joint_sensor'))\n",
    "position_sensors.append(robot.getDevice('wrist_2_joint_sensor'))\n",
    "position_sensors.append(robot.getDevice('wrist_3_joint_sensor'))\n",
    "\n",
    "for ps in position_sensors:\n",
    "    ps.enable(TIME_STEP)\n",
    "    \n",
    "for i, ur_motor in enumerate(ur_motors):\n",
    "    ur_motor.setVelocity(1)\n",
    "    \n",
    "def getCurrentJointAngles():\n",
    "    return np.array([ps.getValue() for ps in position_sensors])\n",
    "\n",
    "def goToPose(config):\n",
    "    for i, ur_motor in enumerate(ur_motors):\n",
    "        ur_motor.setVelocity(1)\n",
    "        ur_motor.setPosition(config[i])\n",
    "\n",
    "    for i in range(100):\n",
    "        robot.step(32)\n",
    "        \n",
    "def set_motor_pos(config):\n",
    "    for i,um in enumerate(ur_motors):\n",
    "        um.setPosition(config[i])"
   ]
  }
 ],
 "metadata": {
  "kernelspec": {
   "display_name": "Python 3",
   "language": "python",
   "name": "python3"
  },
  "language_info": {
   "codemirror_mode": {
    "name": "ipython",
    "version": 3
   },
   "file_extension": ".py",
   "mimetype": "text/x-python",
   "name": "python",
   "nbconvert_exporter": "python",
   "pygments_lexer": "ipython3",
   "version": "3.9.10"
  }
 },
 "nbformat": 4,
 "nbformat_minor": 5
}
