{
 "cells": [
  {
   "cell_type": "markdown",
   "id": "cdd8b0dc-1ea3-47ed-9606-0e4961c8ce09",
   "metadata": {},
   "source": [
    "# PyTrees: Basic Example\n",
    "\n",
    "This example is a Behavior Tree implementation of \"Lab 0\", replacing the finite state machine with a sequence of actions.\n",
    "\n",
    "Read the documentation on https://py-trees.readthedocs.io/en/release-2.1.x/introduction.html"
   ]
  },
  {
   "cell_type": "code",
   "execution_count": 1,
   "id": "6c2542d3-243f-4f44-a722-d1fa1b7f675e",
   "metadata": {},
   "outputs": [],
   "source": [
    "#!pip3 install py_trees"
   ]
  },
  {
   "cell_type": "code",
   "execution_count": 2,
   "id": "bcf7735a-930b-4e0e-a8d4-ac543bbf0dee",
   "metadata": {},
   "outputs": [],
   "source": [
    "import py_trees\n",
    "from controller import Robot\n",
    "from controller import DistanceSensor, Motor, PositionSensor"
   ]
  },
  {
   "cell_type": "code",
   "execution_count": 3,
   "id": "2b2b8372-3ce8-4954-a04a-227a625bda8a",
   "metadata": {},
   "outputs": [],
   "source": [
    "class Waiting(py_trees.behaviour.Behaviour):\n",
    "    def __init__(self, name):\n",
    "        super(Waiting, self).__init__(name)\n",
    "\n",
    "    def setup(self):\n",
    "        self.logger.debug(\"  %s [Waiting::setup()]\" % self.name)\n",
    "        distance_sensor.enable(timestep)\n",
    "\n",
    "    def initialise(self):\n",
    "        self.logger.debug(\"  %s [Waiting::initialise()]\" % self.name)\n",
    "\n",
    "    def update(self):\n",
    "        self.logger.debug(\"  %s [Waiting::update()]\" % self.name)\n",
    "        if distance_sensor.getValue() < 500:\n",
    "            self.feedback_message = \"Can detected!\"\n",
    "            return py_trees.common.Status.SUCCESS # advance to Grasping\n",
    "        else:\n",
    "            return py_trees.common.Status.RUNNING\n",
    "        \n",
    "    def terminate(self, new_status):\n",
    "        self.logger.debug(\"  %s [Waiting::terminate().terminate()][%s->%s]\" % (self.name, self.status, new_status))"
   ]
  },
  {
   "cell_type": "code",
   "execution_count": 4,
   "id": "40af3e06-b5f4-44bc-8d5d-bce5b9d90ebd",
   "metadata": {},
   "outputs": [],
   "source": [
    "class Grasping(py_trees.behaviour.Behaviour):\n",
    "    def __init__(self, name):\n",
    "        super(Grasping, self).__init__(name)\n",
    "\n",
    "    def setup(self):\n",
    "        self.logger.debug(\"  %s [Grasping::setup()]\" % self.name)\n",
    "        for motor in ur_motors:\n",
    "            motor.setVelocity(speed)\n",
    "\n",
    "    def initialise(self):\n",
    "        self.counter=8\n",
    "        for motor in hand_motors:\n",
    "            motor.setPosition(0.85)\n",
    "        self.logger.debug(\"  %s [Grasping::initialise()]\" % self.name)\n",
    "\n",
    "    def update(self):\n",
    "        self.logger.debug(\"  %s [Grasping::update()]\" % self.name)\n",
    "        if(self.counter<=0):\n",
    "            self.feedback_message = \"Hand is closed.\"\n",
    "            return py_trees.common.Status.SUCCESS # advance to Rotating\n",
    "        else:\n",
    "            self.counter=self.counter-1\n",
    "            return py_trees.common.Status.RUNNING\n",
    "        \n",
    "    def terminate(self, new_status):\n",
    "        self.logger.debug(\"  %s [Grasping::terminate().terminate()][%s->%s]\" % (self.name, self.status, new_status))"
   ]
  },
  {
   "cell_type": "code",
   "execution_count": 5,
   "id": "3d83678c-289d-43c1-9e62-e4fa16711d48",
   "metadata": {},
   "outputs": [],
   "source": [
    "class Rotating(py_trees.behaviour.Behaviour):\n",
    "    def __init__(self, name):\n",
    "        super(Rotating, self).__init__(name)\n",
    "\n",
    "    def setup(self):\n",
    "        self.logger.debug(\"  %s [Rotating::setup()]\" % self.name)\n",
    "        position_sensor.enable(timestep)\n",
    "\n",
    "    def initialise(self):\n",
    "        for ind, motor in enumerate(ur_motors):\n",
    "            motor.setPosition(target_positions[ind])\n",
    "        self.logger.debug(\"  %s [Rotating::initialise()]\" % self.name)\n",
    "\n",
    "    def update(self):\n",
    "        self.logger.debug(\"  %s [Rotating::update()]\" % self.name)   \n",
    "        if position_sensor.getValue() < -2.3:\n",
    "            self.feedback_message = \"Releasing can\"\n",
    "            for motor in hand_motors:\n",
    "                motor.setPosition(motor.getMinPosition())\n",
    "            return py_trees.common.Status.SUCCESS # advance to Releasing\n",
    "        else:\n",
    "            return py_trees.common.Status.RUNNING\n",
    "                \n",
    "    def terminate(self, new_status):\n",
    "        self.logger.debug(\"  %s [Rotating::terminate().terminate()][%s->%s]\" % (self.name, self.status, new_status))"
   ]
  },
  {
   "cell_type": "code",
   "execution_count": 6,
   "id": "f610e282-5f94-4338-8202-9e3b78ff3243",
   "metadata": {},
   "outputs": [],
   "source": [
    "class Releasing(py_trees.behaviour.Behaviour):\n",
    "    def __init__(self, name):\n",
    "        super(Releasing, self).__init__(name)\n",
    "\n",
    "    def setup(self):\n",
    "        self.logger.debug(\"  %s [Releasing::setup()]\" % self.name)\n",
    "\n",
    "    def initialise(self):\n",
    "        self.counter=8\n",
    "        self.logger.debug(\"  %s [Releasing::initialise()]\" % self.name)\n",
    "\n",
    "    def update(self):\n",
    "        self.logger.debug(\"  %s [Releasing::update()]\" % self.name)   \n",
    "        if self.counter<=0:\n",
    "            self.feedback_message = \"Hand is open.\"\n",
    "            return py_trees.common.Status.SUCCESS # advance to rotate back    \n",
    "        else:\n",
    "            self.counter=self.counter-1\n",
    "            return py_trees.common.Status.RUNNING\n",
    "            \n",
    "    def terminate(self, new_status):\n",
    "        self.logger.debug(\"  %s [Releasing::terminate().terminate()][%s->%s]\" % (self.name, self.status, new_status))"
   ]
  },
  {
   "cell_type": "code",
   "execution_count": 7,
   "id": "7f52ca0b-4166-4e08-9ed0-d5d4a653b896",
   "metadata": {},
   "outputs": [],
   "source": [
    "class RotatingBack(py_trees.behaviour.Behaviour):\n",
    "    def __init__(self, name):\n",
    "        super(RotatingBack, self).__init__(name)\n",
    "\n",
    "    def setup(self):\n",
    "        self.logger.debug(\"  %s [RotatingBack::setup()]\" % self.name)\n",
    "        position_sensor.enable(timestep)\n",
    "\n",
    "    def initialise(self):\n",
    "        self.logger.debug(\"  %s [RotatingBack::initialise()]\" % self.name)\n",
    "        for motor in ur_motors:\n",
    "            motor.setPosition(0.0)\n",
    "\n",
    "    def update(self):\n",
    "        self.logger.debug(\"  %s [RotatingBack::update()]\" % self.name)\n",
    "      \n",
    "        if position_sensor.getValue() > -0.1:\n",
    "            self.feedback_message = \"Waiting can\"\n",
    "            return py_trees.common.Status.SUCCESS # advance to Waiting\n",
    "        else:\n",
    "            return py_trees.common.Status.RUNNING\n",
    "                \n",
    "    def terminate(self, new_status):\n",
    "        self.logger.debug(\"  %s [RotatingBack::terminate().terminate()][%s->%s]\" % (self.name, self.status, new_status))"
   ]
  },
  {
   "cell_type": "code",
   "execution_count": null,
   "id": "fc7fc49d-4c8d-438b-953b-c73c3829247e",
   "metadata": {},
   "outputs": [],
   "source": [
    "robot = Robot()\n",
    "timestep = 32\n",
    "\n",
    "target_positions = [-1.88, -2.14, -2.38, -1.51]\n",
    "speed = 1.0\n",
    "\n",
    "hand_motors = [robot.getDevice(\"finger_1_joint_1\"),\n",
    "               robot.getDevice(\"finger_2_joint_1\"),\n",
    "               robot.getDevice(\"finger_middle_joint_1\")]\n",
    "ur_motors = [robot.getDevice(\"shoulder_lift_joint\"),\n",
    "             robot.getDevice(\"elbow_joint\"),\n",
    "             robot.getDevice(\"wrist_1_joint\"),\n",
    "             robot.getDevice(\"wrist_2_joint\")]\n",
    "distance_sensor = robot.getDevice(\"distance sensor\")\n",
    "position_sensor = robot.getDevice(\"wrist_1_joint_sensor\")\n",
    "\n",
    "\n",
    "py_trees.logging.level = py_trees.logging.Level.DEBUG"
   ]
  },
  {
   "cell_type": "markdown",
   "id": "251fb91e-2bb0-47fb-b7e5-afd91ba6f9e4",
   "metadata": {},
   "source": [
    "We can now program the robot by composing a tree of appropriate behaviors. In this example, we create a \"sequence\" that consists of waiting, grasping, rotating, releasing, and rotating back states. "
   ]
  },
  {
   "cell_type": "code",
   "execution_count": null,
   "id": "fd70be1c-4425-4b5a-bffe-45525d12a92c",
   "metadata": {},
   "outputs": [],
   "source": [
    "root = py_trees.composites.Sequence(\"Sequence\")\n",
    "root.add_child(Waiting(name=\"Waiting\"))\n",
    "root.add_child(Grasping(name=\"Grasping\"))\n",
    "root.add_child(Rotating(name=\"Rotating\"))\n",
    "root.add_child(Releasing(name=\"Releasing\"))\n",
    "root.add_child(RotatingBack(name=\"Rotating Back\"))\n",
    "\n",
    "#py_trees.display.render_dot_tree(root)\n",
    "#import matplotlib.pyplot as plt\n",
    "#import cv2\n",
    "#%matplotlib inline\n",
    "#img = cv2.imread('sequence.png')\n",
    "#plt.figure(figsize = (20, 20))\n",
    "#plt.imshow(img)\n",
    "\n",
    "root.setup_with_descendants()\n",
    "\n",
    "while robot.step(timestep) != -1:\n",
    "    root.tick_once()\n",
    "    "
   ]
  },
  {
   "cell_type": "code",
   "execution_count": null,
   "id": "f9b655ff-5a47-47b4-aed3-c8c5cd0c2b31",
   "metadata": {},
   "outputs": [],
   "source": [
    "root.setup_with_descendants()"
   ]
  },
  {
   "cell_type": "code",
   "execution_count": null,
   "id": "33041c02-8ec2-4137-8283-7468dae9b9c3",
   "metadata": {},
   "outputs": [],
   "source": [
    "for i in range(10):\n",
    "    root.tick_once()\n",
    "    robot.step(timestep)"
   ]
  },
  {
   "cell_type": "code",
   "execution_count": null,
   "id": "afa2c494-bd49-4ddb-8156-db9ffef3a6be",
   "metadata": {},
   "outputs": [],
   "source": []
  }
 ],
 "metadata": {
  "kernelspec": {
   "display_name": "Python 3",
   "language": "python",
   "name": "python3"
  },
  "language_info": {
   "codemirror_mode": {
    "name": "ipython",
    "version": 3
   },
   "file_extension": ".py",
   "mimetype": "text/x-python",
   "name": "python",
   "nbconvert_exporter": "python",
   "pygments_lexer": "ipython3",
   "version": "3.9.10"
  }
 },
 "nbformat": 4,
 "nbformat_minor": 5
}
