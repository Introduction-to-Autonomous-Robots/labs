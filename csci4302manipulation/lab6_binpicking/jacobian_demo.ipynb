{
 "cells": [
  {
   "cell_type": "markdown",
   "id": "8cc6f6f8-2bb4-4e86-b1e1-be26ff03b9bb",
   "metadata": {},
   "source": [
    "# Jacobian Inverse Kinematic Solver Examples\n",
    "\n",
    "This file demonstrates the various functions that are available in the jacobian_ik library by Michael Lauria.\n",
    "\n",
    "\n"
   ]
  },
  {
   "cell_type": "code",
   "execution_count": 1,
   "id": "94bb9eef-2daa-4250-9ccb-07565327a7cf",
   "metadata": {},
   "outputs": [],
   "source": [
    "from spatialmath import SO3\n",
    "from webots import *\n",
    "from jacobian_ik import *"
   ]
  },
  {
   "cell_type": "markdown",
   "id": "e627c93a-7cf5-467b-b32e-e36f07761127",
   "metadata": {},
   "source": [
    "# 1. Move along a local coordinate axis\n",
    "\n",
    "Options are x, y or z. "
   ]
  },
  {
   "cell_type": "code",
   "execution_count": null,
   "id": "e4f2abcd-ddc5-4522-96f2-6d585e8d79eb",
   "metadata": {},
   "outputs": [],
   "source": [
    "start_pos = [0, -1.382, -1.13, -2, 1.63, 3.142]\n",
    "\n",
    "goToPose(start_pos)\n",
    "\n",
    "_, start_pose_transform = getCurrentPose()\n",
    "print(f\"current space frame transform: {start_pose_transform.round(3)}\")\n",
    "\n",
    "print(\"moving down 40 cm ...\")\n",
    "output, desiredPose = moveTo('z', -0.4) # move along local x,y or z\n",
    "print(f\"target pose: {desiredPose.round(3)}\")\n",
    "\n",
    "error = getSpaceFrameError(desiredPose)\n",
    "print(f\"error: {error}\")\n",
    "print(f\"linear error: {np.linalg.norm(error[:3])}\")\n",
    "print(f\"angular error: {np.linalg.norm(error[3:])}\")\n",
    "\n",
    "_, pose = getCurrentPose()\n",
    "print(f\"actual: {pose.round(3)}\")\n",
    "print(error)\n"
   ]
  },
  {
   "cell_type": "markdown",
   "id": "cd6808e8-8dca-4ab1-8d50-abab700fdc43",
   "metadata": {},
   "source": [
    "# 2. Move to pose"
   ]
  },
  {
   "cell_type": "code",
   "execution_count": 6,
   "id": "e0f55f17-c2f7-43ef-9437-108d6f41c98a",
   "metadata": {},
   "outputs": [
    {
     "name": "stdout",
     "output_type": "stream",
     "text": [
      "actual pose: [[ 0.251  0.939 -0.237  0.355]\n",
      " [ 0.837 -0.087  0.54  -0.127]\n",
      " [ 0.487 -0.334 -0.807  0.733]\n",
      " [ 0.     0.     0.     1.   ]]\n",
      "moving back to start pose (using transform directly) ...\n",
      "see _moveTo()\n",
      "target pose: [[-0.026  0.98   0.199  0.355]\n",
      " [ 0.998  0.015  0.059 -0.127]\n",
      " [ 0.055  0.2   -0.978  0.733]\n",
      " [ 0.     0.     0.     1.   ]]\n",
      "space frame error: [ 6.53406530e-05 -5.57693466e-05 -3.09818524e-05 -6.66536491e-05\n",
      " -1.08252702e-04  2.41397713e-07]\n",
      "space frame linear error: 9.132084168940669e-05\n",
      "space frame angular error: 0.0001271275529849477\n",
      "actual: [[-0.026  0.98   0.199  0.355]\n",
      " [ 0.998  0.015  0.059 -0.127]\n",
      " [ 0.055  0.2   -0.978  0.733]\n",
      " [ 0.     0.     0.     1.   ]]\n",
      "[ 6.53406530e-05 -5.57693466e-05 -3.09818524e-05 -6.66536491e-05\n",
      " -1.08252702e-04  2.41397713e-07]\n"
     ]
    }
   ],
   "source": [
    "joint_angles, pose = getCurrentPose()\n",
    "print(f\"actual pose: {pose.round(3)}\")\n",
    "\n",
    "print(\"moving back to start pose (using transform directly) ...\")\n",
    "print(\"see _moveTo()\")\n",
    "output = moveToPose(start_pose_transform, joint_angles)\n",
    "print(f\"target pose: {start_pose_transform.round(3)}\")\n",
    "\n",
    "error = getSpaceFrameError(start_pose_transform)\n",
    "print(f\"space frame error: {error}\")\n",
    "print(f\"space frame linear error: {np.linalg.norm(error[:3])}\")\n",
    "print(f\"space frame angular error: {np.linalg.norm(error[3:])}\")\n",
    "\n",
    "_, pose = getCurrentPose()\n",
    "print(f\"actual: {pose.round(3)}\")\n",
    "print(error)"
   ]
  },
  {
   "cell_type": "markdown",
   "id": "03c2c23f-b9fe-4889-bfa8-abb7163ffa7e",
   "metadata": {},
   "source": [
    "# 3. Move to specific orientation"
   ]
  },
  {
   "cell_type": "code",
   "execution_count": 4,
   "id": "f276ac9b-9d91-4ea3-8818-b12cf3206ee6",
   "metadata": {},
   "outputs": [
    {
     "name": "stdout",
     "output_type": "stream",
     "text": [
      "[[ 0.25052672  0.93869946 -0.2368115   0.35475676]\n",
      " [ 0.83689985 -0.08702947  0.54039292 -0.12739381]\n",
      " [ 0.48665696 -0.33357038 -0.80740065  0.73313767]\n",
      " [ 0.          0.          0.          1.        ]]\n",
      "moving ...\n",
      "target pose: [[ 0.251  0.939 -0.237  0.355]\n",
      " [ 0.837 -0.087  0.54  -0.127]\n",
      " [ 0.487 -0.334 -0.807  0.733]\n",
      " [ 0.     0.     0.     1.   ]]\n",
      "space frame error: [-2.90811195e-05  5.32923201e-05  3.09845210e-05  6.19790781e-05\n",
      "  2.22498028e-05 -1.63155627e-05]\n",
      "space frame linear error: 6.81602775510635e-05\n",
      "space frame angular error: 6.784288781221992e-05\n",
      "actual: [[ 0.251  0.939 -0.237  0.355]\n",
      " [ 0.837 -0.087  0.54  -0.127]\n",
      " [ 0.487 -0.334 -0.807  0.733]\n",
      " [ 0.     0.     0.     1.   ]]\n",
      "[-2.90811195e-05  5.32923201e-05  3.09845210e-05  6.19790781e-05\n",
      "  2.22498028e-05 -1.63155627e-05]\n"
     ]
    }
   ],
   "source": [
    "rotation = SO3.RPY([30, 30, 0], unit=\"deg\")\n",
    "joint_angles, pose = getCurrentPose()\n",
    "target = SE3(SO3(rotation.A @ pose[:3, :3])).A\n",
    "\n",
    "# keep the current location, just rotate\n",
    "target[:3, 3] = pose[:3, 3]\n",
    "print(target)\n",
    "\n",
    "print(\"moving ...\")\n",
    "output = moveToPose(target, joint_angles)\n",
    "print(f\"target pose: {target.round(3)}\")\n",
    "\n",
    "error = getSpaceFrameError(target)\n",
    "print(f\"space frame error: {error}\")\n",
    "print(f\"space frame linear error: {np.linalg.norm(error[:3])}\")\n",
    "print(f\"space frame angular error: {np.linalg.norm(error[3:])}\")\n",
    "\n",
    "_, pose = getCurrentPose()\n",
    "print(f\"actual: {pose.round(3)}\")\n",
    "print(error)"
   ]
  }
 ],
 "metadata": {
  "kernelspec": {
   "display_name": "Python 3",
   "language": "python",
   "name": "python3"
  },
  "language_info": {
   "codemirror_mode": {
    "name": "ipython",
    "version": 3
   },
   "file_extension": ".py",
   "mimetype": "text/x-python",
   "name": "python",
   "nbconvert_exporter": "python",
   "pygments_lexer": "ipython3",
   "version": "3.9.10"
  }
 },
 "nbformat": 4,
 "nbformat_minor": 5
}
