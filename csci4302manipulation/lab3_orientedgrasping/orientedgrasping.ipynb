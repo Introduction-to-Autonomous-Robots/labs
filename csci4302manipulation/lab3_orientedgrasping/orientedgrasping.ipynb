{
 "cells": [
  {
   "cell_type": "markdown",
   "id": "ec9062e0-ab9f-4d86-a53f-b37b30407ace",
   "metadata": {},
   "source": [
    "# Oriented Grasping\n",
    "\n",
    "So far, grasping has been limited to move our hand to be at the right position at the right time without worrying about its orientation. The goal of this lab is to explore oriented grasps. For this we assume, perception to be perfect relying on Webots built-in object detection. We will then analyze the pose of an object and derive an appropriate pose for the robot's end-effector. We will be using two world files: one with just a single can that is either laying or standing up, and one with a basket full of cans that can be in any orientation. Your goal is to implement a controller that can grasp the cans in any orientation. \n",
    "\n",
    "In order to better deal with rotations, we will be introducing a library by Prof. Peter Corke https://pypi.org/project/spatialmath-python/ as well as http://matthew-brett.github.io/transforms3d/reference/transforms3d.quaternions.html by Matthew Brett.\n"
   ]
  },
  {
   "cell_type": "code",
   "execution_count": 1,
   "id": "2462fe17-94c7-4d62-84a4-95719e781557",
   "metadata": {},
   "outputs": [],
   "source": [
    "#!pip3 install spatialmath-python"
   ]
  },
  {
   "cell_type": "code",
   "execution_count": 2,
   "id": "5840a6b8-dd70-48ba-b6d6-6cac6d4968f3",
   "metadata": {},
   "outputs": [],
   "source": [
    "import spatialmath as sm\n",
    "import transforms3d as t3d"
   ]
  },
  {
   "cell_type": "markdown",
   "id": "de17974f-6fd9-41ea-a597-7af641d0e53b",
   "metadata": {
    "tags": []
   },
   "source": [
    "# Webots Recognition Node\n",
    "\n",
    "Webots provides built-in object detection capability that works very similar to pixel-based segmentation tools such as YoLo, Mask R-CNN or Facebook's Detectron. Read up about it here https://www.cyberbotics.com/doc/reference/recognition\n",
    "\n",
    "In this lab, we provide you with the ability to recognize the cans and pick out the one that you want to grasp. Specifically, the cans each have a distinct \"recognition color\". This emulates perfect segmentation such as can be obtained by DBScan or similar algorithms. All recognition colors are composed of 0, 0.5 and 1 (e.g., [0 0.5 0] or [1 1 0.5]).  \n"
   ]
  },
  {
   "cell_type": "code",
   "execution_count": 3,
   "id": "8c38dded-2756-4737-a5d6-bdacdd2a1f7a",
   "metadata": {},
   "outputs": [],
   "source": [
    "from controller import Robot, Supervisor\n",
    "import numpy as np\n",
    "\n",
    "# create the Robot instance.\n",
    "robot = Supervisor() #Robot()\n",
    "\n",
    "# get the time step of the current world.\n",
    "timestep = int(robot.getBasicTimeStep())\n",
    "\n",
    "speed=1.0\n",
    "\n",
    "start_pos = [0,-1.382,-1.13, -2,1.63,0]#3.142]\n",
    "\n",
    "hand_motors=[robot.getDevice(\"finger_1_joint_1\"),\n",
    "             robot.getDevice(\"finger_2_joint_1\"),\n",
    "             robot.getDevice(\"finger_middle_joint_1\")]\n",
    "\n",
    "ur_motors=[robot.getDevice(\"shoulder_pan_joint\"),\n",
    "           robot.getDevice(\"shoulder_lift_joint\"),\n",
    "           robot.getDevice(\"elbow_joint\"),\n",
    "           robot.getDevice(\"wrist_1_joint\"),\n",
    "           robot.getDevice(\"wrist_2_joint\"),\n",
    "           robot.getDevice(\"wrist_3_joint\")]\n",
    "\n",
    "for i, ur_motor in enumerate(ur_motors):\n",
    "    ur_motor.setVelocity(speed)\n",
    "    ur_motor.setPosition(start_pos[i])\n",
    "\n",
    "position_sensors=[robot.getDevice(\"shoulder_pan_joint_sensor\"),\n",
    "                  robot.getDevice(\"shoulder_lift_joint_sensor\"),\n",
    "                  robot.getDevice(\"elbow_joint_sensor\"),\n",
    "                  robot.getDevice(\"wrist_1_joint_sensor\"),\n",
    "                  robot.getDevice(\"wrist_2_joint_sensor\"),\n",
    "                  robot.getDevice(\"wrist_3_joint_sensor\")]\n",
    "\n",
    "for position_sensor in position_sensors:\n",
    "    position_sensor.enable(timestep)\n",
    "    \n",
    "camera = robot.getDevice(\"camera\")\n",
    "camera.enable(timestep)\n",
    "camera.recognitionEnable(timestep)\n",
    "camera.enableRecognitionSegmentation()\n",
    "\n",
    "rangefinder = robot.getDevice(\"range-finder\")\n",
    "rangefinder.enable(timestep)                     \n",
    "\n",
    "marker_node = robot.getFromDef(\"Marker\")\n",
    "marker_trans = marker_node.getField(\"translation\")\n",
    "marker_rot  = marker_node.getField(\"rotation\")\n",
    "\n",
    "\n",
    "for i in range(200):\n",
    "    robot.step(timestep)\n",
    "    \n"
   ]
  },
  {
   "cell_type": "markdown",
   "id": "bb5678ab-2e3d-4709-96c5-97ef0270be78",
   "metadata": {},
   "source": [
    "## Read depth and segmented image"
   ]
  },
  {
   "cell_type": "code",
   "execution_count": 4,
   "id": "d7329d93-163e-40bb-8d28-ef8fed097b3f",
   "metadata": {},
   "outputs": [
    {
     "data": {
      "text/plain": [
       "0"
      ]
     },
     "execution_count": 4,
     "metadata": {},
     "output_type": "execute_result"
    }
   ],
   "source": [
    "robot.step(timestep)\n",
    "depth_1darray = np.frombuffer(rangefinder.getRangeImage(data_type=\"buffer\"), dtype=np.float32)\n",
    "depth=np.reshape(depth_1darray,(240,320))\n",
    "depth=depth*1000.0\n",
    "\n",
    "image_1darray = camera.getRecognitionSegmentationImage()\n",
    "image = np.frombuffer(image_1darray, np.uint8).reshape((camera.getHeight(), camera.getWidth(), 4))\n",
    "\n",
    "mono = np.dot(image,[0.2989, 0.5870, 0.1140,0]).astype(int)\n",
    "\n",
    "robot.step(timestep)"
   ]
  },
  {
   "cell_type": "markdown",
   "id": "dd1f0d65-b694-4c23-8103-4d37a7d973d9",
   "metadata": {},
   "source": [
    "## Mask depth image with segmented image\n",
    "\n",
    "The goal of segmentation is to make individual objects uniquely identifiable. In this case, the segmentation routine will label each object's pixel with a unique color. We can use this information to mask these objects in the depth image."
   ]
  },
  {
   "cell_type": "code",
   "execution_count": 5,
   "id": "3acbd6b6-9a8c-4338-8dec-8b78d95a71f4",
   "metadata": {},
   "outputs": [
    {
     "data": {
      "image/png": "[encoded data removed]",
      "text/plain": [
       "<Figure size 432x288 with 3 Axes>"
      ]
     },
     "metadata": {
      "needs_background": "light"
     },
     "output_type": "display_data"
    }
   ],
   "source": [
    "import matplotlib.pyplot as plt\n",
    "\n",
    "plt.subplot(1, 3, 1)\n",
    "plt.title('Camera image')\n",
    "plt.imshow(image)\n",
    "plt.subplot(1, 3, 2)\n",
    "plt.title('Depth image')\n",
    "plt.imshow(depth)\n",
    "plt.subplot(1, 3, 3)\n",
    "plt.title('Monochrome image')\n",
    "plt.imshow(mono)\n",
    "plt.show()"
   ]
  },
  {
   "cell_type": "markdown",
   "id": "e4ac3923-c726-4b45-9b65-0d391111a848",
   "metadata": {},
   "source": [
    "# Compute Object Pose from Open3D Pointcloud\n",
    "\n",
    "We can pick individual objects by multiplying the depth image with a mask. We can hence compute the oriented bounding box and the relative pose of the object for the robot to grasp. \n",
    "\n",
    "The oriented bounding box data structure provides the center (.center) and orientation (.R), which allows you to compute its pose in the robot's base frame. You can then compute an IK solution that moves the robot arm there. "
   ]
  },
  {
   "cell_type": "code",
   "execution_count": 6,
   "id": "1b6ace3a-36e3-4a3c-8a70-c3edba55eee3",
   "metadata": {},
   "outputs": [],
   "source": [
    "import open3d as o3d\n",
    "\n",
    "cand=np.multiply(depth,mono == 254) # pick the white can\n",
    "\n",
    "rgbd_image = o3d.geometry.RGBDImage.create_from_color_and_depth(\n",
    "        o3d.geometry.Image(image), \n",
    "        o3d.geometry.Image(np.array(cand).astype('uint16')),\n",
    "        convert_rgb_to_intensity=False,\n",
    "        depth_scale=1000.0, depth_trunc=1.5)\n",
    "\n",
    "\n",
    "can = o3d.geometry.PointCloud.create_from_rgbd_image(\n",
    "    rgbd_image,\n",
    "       o3d.camera.PinholeCameraIntrinsic(320,240,320,240,160,120),\n",
    "    project_valid_depth_only=True\n",
    ")\n",
    "\n",
    "can.paint_uniform_color([1.0, 0, 0]) # you need to color this as the segmentation color is unreliable, in particular for the white object\n",
    "\n",
    "#o3d.visualization.draw_geometries([can])\n",
    "\n",
    "obb = can.get_oriented_bounding_box()\n",
    "obb.color = (0, 1, 0)\n",
    "#o3d.visualization.draw_geometries([obb,can])\n"
   ]
  },
  {
   "cell_type": "code",
   "execution_count": 7,
   "id": "2cfa7db7-1537-4e72-a260-e553f423febe",
   "metadata": {},
   "outputs": [
    {
     "name": "stdout",
     "output_type": "stream",
     "text": [
      "[[ 0.95809961 -0.25627052 -0.12794746 -0.18468278]\n",
      " [-0.27340143 -0.95140829 -0.14168246  0.2416271 ]\n",
      " [ 0.08542124 -0.17072693  0.98160864  0.5790693 ]\n",
      " [ 0.          0.          0.          1.        ]]\n"
     ]
    }
   ],
   "source": [
    "# building the transformation matrix from rotation, translation, and [0 0 0 1]\n",
    "\n",
    "Randt=np.concatenate((obb.R, np.expand_dims(obb.center, axis=1)),axis=1) # pitfall: arrays need to be passed as a tuple\n",
    "lastrow=np.expand_dims(np.array([0,0,0,1]),axis=0)\n",
    "T=np.concatenate((Randt,lastrow))\n",
    "print(T)"
   ]
  },
  {
   "cell_type": "markdown",
   "id": "c7b0ec02-4a8e-4169-9c4d-91ead7bbbb1e",
   "metadata": {},
   "source": [
    "The rotation matrix obb.R describes the orientation of the object relative to the robot's end-effector. This is actionable information: we need to rotate and tilt the gripper so that it aligns with the object. Unfortunately, Open3D is not consistent in how it presents object orientation to us. For example, the z-axis might point up or down. We therefore cannot just assign the end-effector the same pose as the object, but need to differentiate between different cases. This gets easier when computing the pitch, yaw and roll of the object rather than dealing with a rotation matrix. "
   ]
  },
  {
   "cell_type": "code",
   "execution_count": 8,
   "id": "3097ea1d-4591-4a94-aa14-0fa9f28d477d",
   "metadata": {},
   "outputs": [],
   "source": [
    "RPY=sm.SO3(obb.R).rpy()"
   ]
  },
  {
   "cell_type": "markdown",
   "id": "cf4a1076-87fd-415b-8d0d-3d57661c13a4",
   "metadata": {},
   "source": [
    "# Compute grasp pose using Forward Kinematics"
   ]
  },
  {
   "cell_type": "markdown",
   "id": "fdf0f41e-77c7-4775-ab19-1a04ed2d6356",
   "metadata": {},
   "source": [
    "So far, we computed the position of the can only in end-effector space. The robot's inverse kinematics expects coordinates in the robot's frame. Note that the robot's frame that the IK solver is using is not visible in Webots. Its origin is around 7cm above the origin of the UR5e's base in Webots. Also note that the IK solver ends at the last joint, not including the mount point and the gripper where the camera is mounted.\n",
    "\n",
    "Obviously, we cannot directly move the end-effector to the can. We will need to come a little from above, taking into account the lengt of the gripper. By experimenting with the system, we find out that we need to rotate the can by 90 degrees in order to grasp it along the narrow dimension. \n"
   ]
  },
  {
   "cell_type": "code",
   "execution_count": 9,
   "id": "7251128b-4a4b-41b4-b7cc-5052dede20ad",
   "metadata": {},
   "outputs": [],
   "source": [
    "import cmath\n",
    "import math\n",
    "from math import cos as cos\n",
    "from math import sin as sin\n",
    "from math import atan2 as atan2\n",
    "from math import acos as acos\n",
    "from math import asin as asin\n",
    "from math import sqrt as sqrt\n",
    "from math import pi as pi\n",
    "\n",
    "global mat\n",
    "mat=np.matrix\n",
    "\n",
    "global d, a, alph\n",
    "\n",
    "d = mat([0.1625, 0, 0, 0.1333, 0.0997, 0.0996]) #ur5e\n",
    "a = mat([0 ,-0.425 ,-0.3922 ,0 ,0 ,0]) #ur5e\n",
    "alph = mat([math.pi/2, 0, 0, math.pi/2, -math.pi/2, 0 ])  #ur5e\n",
    "\n",
    "# ************************************************** FORWARD KINEMATICS\n",
    "\n",
    "def AH( n,th,c  ):\n",
    "\n",
    "  T_a = mat(np.identity(4), copy=False)\n",
    "  T_a[0,3] = a[0,n-1]\n",
    "  T_d = mat(np.identity(4), copy=False)\n",
    "  T_d[2,3] = d[0,n-1]\n",
    "\n",
    "  Rzt = mat([[cos(th[n-1,c]), -sin(th[n-1,c]), 0 ,0],\n",
    "\t         [sin(th[n-1,c]),  cos(th[n-1,c]), 0, 0],\n",
    "\t         [0,               0,              1, 0],\n",
    "\t         [0,               0,              0, 1]],copy=False)\n",
    "      \n",
    "\n",
    "  Rxa = mat([[1, 0,                 0,                  0],\n",
    "\t\t\t [0, cos(alph[0,n-1]), -sin(alph[0,n-1]),   0],\n",
    "\t\t\t [0, sin(alph[0,n-1]),  cos(alph[0,n-1]),   0],\n",
    "\t\t\t [0, 0,                 0,                  1]],copy=False)\n",
    "\n",
    "  A_i = T_d * Rzt * T_a * Rxa\n",
    "\t    \n",
    "\n",
    "  return A_i\n",
    "\n",
    "def HTrans(th,c ):  \n",
    "  A_1=AH( 1,th,c  )\n",
    "  A_2=AH( 2,th,c  )\n",
    "  A_3=AH( 3,th,c  )\n",
    "  A_4=AH( 4,th,c  )\n",
    "  A_5=AH( 5,th,c  )\n",
    "  A_6=AH( 6,th,c  )\n",
    "      \n",
    "  T_06=A_1*A_2*A_3*A_4*A_5*A_6\n",
    "  return T_06\n",
    "\n",
    "def get_joint_angles():\n",
    "    th=[]\n",
    "    for position_sensor in position_sensors:\n",
    "        th.append(position_sensor.getValue())\n",
    "    return th\n",
    "\n",
    "def restorePose(angles):\n",
    "    for i,ur_motor in enumerate(ur_motors):\n",
    "        ur_motor.setPosition(angles[i])\n",
    "\n",
    "    for i in range(100):\n",
    "        robot.step(timestep)"
   ]
  },
  {
   "cell_type": "markdown",
   "id": "0f41bf12-8198-435f-b6a3-32cf07ad9ce7",
   "metadata": {},
   "source": [
    "We will use supervisor functionality to place an object at exactly the same position as the robot sees the object. This way, we can verify that all transforms are done correctly."
   ]
  },
  {
   "cell_type": "code",
   "execution_count": 10,
   "id": "0da21b04-7e7e-497d-82b2-667f2508b869",
   "metadata": {},
   "outputs": [
    {
     "data": {
      "text/plain": [
       "0"
      ]
     },
     "execution_count": 10,
     "metadata": {},
     "output_type": "execute_result"
    }
   ],
   "source": [
    "import transforms3d as t3d\n",
    "\n",
    "# 1. The robot pose\n",
    "angles=get_joint_angles()\n",
    "theta=np.matrix([[theta] for theta in angles])\n",
    "InitialPose=HTrans(theta,[0])\n",
    "\n",
    "# 2. Compute object pose in the Webots world frame to display it\n",
    "#\n",
    "# T_origin_base * T_base_tip * T_tip_camera * T_camera_object\n",
    "ObjectPose=np.array([[0,-1,0,-1.53],\n",
    "            [1,0,0,-1.04],\n",
    "            [0,0,1,0.87],\n",
    "            [0,0,0,1]]) @ InitialPose @ [[1,0,0,0.0],\n",
    "            [0,1,0,-0.05],\n",
    "            [0,0,1,0.15],\n",
    "            [0,0,0,1]] @ T                     \n",
    "\n",
    "marker_trans.setSFVec3f([item for sublist in ObjectPose[:3,3].tolist() for item in sublist])\n",
    "marker_rot.setSFRotation(t3d.quaternions.mat2quat(ObjectPose[:3,:3]).tolist())\n",
    "robot.step(32)"
   ]
  },
  {
   "cell_type": "markdown",
   "id": "8eb47967-bc55-46c0-955e-9e291a1064f4",
   "metadata": {},
   "source": [
    "Unfortunately, Open3D is not very consistent in how the object pose is provided. In addition to sensor noise, we have to deal with coordinate systems being oriented differently every time. Here, it can help to convert the rotation matrix into roll, pitch and yaw.\n"
   ]
  },
  {
   "cell_type": "code",
   "execution_count": 11,
   "id": "185ac921-1d6f-435d-8ad6-4efc7b4be0be",
   "metadata": {},
   "outputs": [
    {
     "name": "stdout",
     "output_type": "stream",
     "text": [
      "[-0.17220306 -0.08552546 -0.27797027]\n"
     ]
    }
   ],
   "source": [
    "ObjectRPY=sm.SO3(obb.R).rpy()\n",
    "print(ObjectRPY)"
   ]
  },
  {
   "cell_type": "markdown",
   "id": "5d817974-b39d-4fd9-8186-9f622ea276d3",
   "metadata": {},
   "source": [
    "You can now use similar transformations as when we placed the marker but to compute the desired orientation of the gripper, but this time to grasp. You will need to compute the desired position for the robot's"
   ]
  },
  {
   "cell_type": "code",
   "execution_count": 15,
   "id": "8c6d0430-5980-4130-bca4-5021e045bfb8",
   "metadata": {},
   "outputs": [
    {
     "name": "stdout",
     "output_type": "stream",
     "text": [
      "[[ 1.18092061e-02 -9.79997787e-01  1.98657695e-01  3.54751659e-01]\n",
      " [-9.98247583e-01 -3.34744091e-05  5.91756921e-02 -1.27394147e-01]\n",
      " [-5.79853974e-02 -1.99008381e-01 -9.78280817e-01  7.33274907e-01]\n",
      " [ 0.00000000e+00  0.00000000e+00  0.00000000e+00  1.00000000e+00]]\n",
      "[[ 0.95809961 -0.25627052 -0.12794746 -0.18468278]\n",
      " [-0.27340143 -0.95140829 -0.14168246  0.2416271 ]\n",
      " [ 0.08542124 -0.17072693  0.98160864  0.5790693 ]\n",
      " [ 0.          0.          0.          1.        ]]\n"
     ]
    }
   ],
   "source": [
    "print(InitialPose) # The robot's tip (without gripper)\n",
    "print(T) # The object's pose relative to the camera frame\n",
    "\n",
    "DesiredPose=InitialPose # The robot will not move like that. \n"
   ]
  },
  {
   "cell_type": "markdown",
   "id": "2330a6c2-6f56-43eb-bad7-41eb41802c30",
   "metadata": {},
   "source": [
    "# Implement motion\n",
    "\n",
    "We can now use IK to compute the joint angles that we need to get to. "
   ]
  },
  {
   "cell_type": "code",
   "execution_count": 13,
   "id": "02b83677-94fd-497d-90cb-844bd9052f43",
   "metadata": {},
   "outputs": [],
   "source": [
    "# ************************************************** INVERSE KINEMATICS \n",
    "\n",
    "from numpy import linalg\n",
    "\n",
    "global d1, a2, a3, a7, d4, d5, d6\n",
    "d1 =  0.1625\n",
    "a2 = -0.425\n",
    "a3 = -0.3922\n",
    "d4 =  0.1333\n",
    "d5 =  0.0997\n",
    "d6 =  0.0996\n",
    "\n",
    "def invKine(desired_pos):# T60\n",
    "  th = mat(np.zeros((6, 8)))\n",
    "  P_05 = (desired_pos * mat([0,0, -d6, 1]).T-mat([0,0,0,1 ]).T)\n",
    "  \n",
    "  # **** theta1 ****\n",
    "  \n",
    "  psi = atan2(P_05[2-1,0], P_05[1-1,0])\n",
    "  phi = acos(d4 /sqrt(P_05[2-1,0]*P_05[2-1,0] + P_05[1-1,0]*P_05[1-1,0]))\n",
    "  #The two solutions for theta1 correspond to the shoulder\n",
    "  #being either left or right\n",
    "  th[0, 0:4] = pi/2 + psi + phi\n",
    "  th[0, 4:8] = pi/2 + psi - phi\n",
    "  th = th.real\n",
    "  \n",
    "  # **** theta5 ****\n",
    "  \n",
    "  cl = [0, 4]# wrist up or down\n",
    "  for i in range(0,len(cl)):\n",
    "\t      c = cl[i]\n",
    "\t      T_10 = linalg.inv(AH(1,th,c))\n",
    "\t      T_16 = T_10 * desired_pos\n",
    "\t      th[4, c:c+2] = + acos((T_16[2,3]-d4)/d6);\n",
    "\t      th[4, c+2:c+4] = - acos((T_16[2,3]-d4)/d6);\n",
    "\n",
    "  th = th.real\n",
    "  \n",
    "  # **** theta6 ****\n",
    "  # theta6 is not well-defined when sin(theta5) = 0 or when T16(1,3), T16(2,3) = 0.\n",
    "\n",
    "  cl = [0, 2, 4, 6]\n",
    "  for i in range(0,len(cl)):\n",
    "\t      c = cl[i]\n",
    "\t      T_10 = linalg.inv(AH(1,th,c))\n",
    "\t      T_16 = linalg.inv( T_10 * desired_pos )\n",
    "\t      th[5, c:c+2] = atan2((-T_16[1,2]/sin(th[4, c])),(T_16[0,2]/sin(th[4, c])))\n",
    "\t\t  \n",
    "  th = th.real\n",
    "\n",
    "  # **** theta3 ****\n",
    "  cl = [0, 2, 4, 6]\n",
    "  for i in range(0,len(cl)):\n",
    "\t      c = cl[i]\n",
    "\t      T_10 = linalg.inv(AH(1,th,c))\n",
    "\t      T_65 = AH( 6,th,c)\n",
    "\t      T_54 = AH( 5,th,c)\n",
    "\t      T_14 = ( T_10 * desired_pos) * linalg.inv(T_54 * T_65)\n",
    "\t      P_13 = T_14 * mat([0, -d4, 0, 1]).T - mat([0,0,0,1]).T\n",
    "\t      t3 = cmath.acos((linalg.norm(P_13)**2 - a2**2 - a3**2 )/(2 * a2 * a3)) # norm ?\n",
    "\t      th[2, c] = t3.real\n",
    "\t      th[2, c+1] = -t3.real\n",
    "\n",
    "  # **** theta2 and theta 4 ****\n",
    "\n",
    "  cl = [0, 1, 2, 3, 4, 5, 6, 7]\n",
    "  for i in range(0,len(cl)):\n",
    "\t      c = cl[i]\n",
    "\t      T_10 = linalg.inv(AH( 1,th,c ))\n",
    "\t      T_65 = linalg.inv(AH( 6,th,c))\n",
    "\t      T_54 = linalg.inv(AH( 5,th,c))\n",
    "\t      T_14 = (T_10 * desired_pos) * T_65 * T_54\n",
    "\t      P_13 = T_14 * mat([0, -d4, 0, 1]).T - mat([0,0,0,1]).T\n",
    "\t      \n",
    "\t      # theta 2\n",
    "\t      th[1, c] = -atan2(P_13[1], -P_13[0]) + asin(a3* sin(th[2,c])/linalg.norm(P_13))\n",
    "\t      # theta 4\n",
    "\t      T_32 = linalg.inv(AH( 3,th,c))\n",
    "\t      T_21 = linalg.inv(AH( 2,th,c))\n",
    "\t      T_34 = T_32 * T_21 * T_14\n",
    "\t      th[3, c] = atan2(T_34[1,0], T_34[0,0])\n",
    "  th = th.real\n",
    "\n",
    "  return th\n",
    "\n",
    "def restorePose(angles):\n",
    "    for i,ur_motor in enumerate(ur_motors):\n",
    "        ur_motor.setPosition(angles[i])\n",
    "\n",
    "    for i in range(350):\n",
    "        robot.step(timestep)"
   ]
  },
  {
   "cell_type": "code",
   "execution_count": 14,
   "id": "e166f3cb-cfb5-4610-9ca2-05b86ada0c48",
   "metadata": {},
   "outputs": [
    {
     "name": "stdout",
     "output_type": "stream",
     "text": [
      "Solution: 0 Score 30.3490825343657\n",
      "Solution: 1 Score 33.527455307223896\n",
      "Solution: 2 Score 27.36429184617987\n",
      "Solution: 3 Score 32.2517101917241\n",
      "Solution: 4 Score 30.466535222524804\n",
      "Solution: 5 Score 11.824070788612849\n",
      "Solution: 6 Score 38.497801301682806\n",
      "Solution: 7 Score 27.005503487784203\n"
     ]
    }
   ],
   "source": [
    "# select the solution with the lowest joint motion, weighted strongest by the shoulder lift joint\n",
    "score=[]\n",
    "iksolution=invKine(DesiredPose)\n",
    "for i in range(max(iksolution.shape)):\n",
    "    goal=iksolution[:,i]\n",
    "    goal=[angle.item() for angle in goal]\n",
    "    score.append(sum(np.multiply([3,5,4,3,2,1],np.sqrt(np.square(np.array(angles)-np.array(goal))))))\n",
    "    print(\"Solution: {} Score {}\".format(i,score[i]))\n",
    "    #restorePose(goal)\n",
    "          \n",
    "    "
   ]
  },
  {
   "cell_type": "code",
   "execution_count": 15,
   "id": "3fa9c2dc-abab-48a1-93a3-dd882ddee248",
   "metadata": {},
   "outputs": [],
   "source": [
    "best_goal = iksolution[:,score.index(min(score))]\n",
    "best_goal=[angle.item() for angle in best_goal]"
   ]
  },
  {
   "cell_type": "code",
   "execution_count": 16,
   "id": "7f9db38a-c31b-410b-b62b-359f50731783",
   "metadata": {},
   "outputs": [],
   "source": [
    "restorePose(best_goal)"
   ]
  }
 ],
 "metadata": {
  "kernelspec": {
   "display_name": "Python 3",
   "language": "python",
   "name": "python3"
  },
  "language_info": {
   "codemirror_mode": {
    "name": "ipython",
    "version": 3
   },
   "file_extension": ".py",
   "mimetype": "text/x-python",
   "name": "python",
   "nbconvert_exporter": "python",
   "pygments_lexer": "ipython3",
   "version": "3.9.10"
  }
 },
 "nbformat": 4,
 "nbformat_minor": 5
}
